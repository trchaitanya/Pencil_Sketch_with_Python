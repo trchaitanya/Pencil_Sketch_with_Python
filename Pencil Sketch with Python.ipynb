{
 "cells": [
  {
   "cell_type": "markdown",
   "id": "b116bb44",
   "metadata": {
    "id": "b116bb44"
   },
   "source": [
    "# Pencil Sketch with Python"
   ]
  },
  {
   "cell_type": "code",
   "execution_count": 2,
   "id": "5d1b37d8",
   "metadata": {
    "colab": {
     "base_uri": "https://localhost:8080/"
    },
    "executionInfo": {
     "elapsed": 11438,
     "status": "ok",
     "timestamp": 1726980119562,
     "user": {
      "displayName": "Dr Chaitanya",
      "userId": "10883291963338122460"
     },
     "user_tz": -330
    },
    "id": "5d1b37d8",
    "outputId": "4c17b4f2-8013-4fff-b57e-e4369331cd16",
    "scrolled": true
   },
   "outputs": [
    {
     "name": "stdout",
     "output_type": "stream",
     "text": [
      "Defaulting to user installation because normal site-packages is not writeable\n",
      "Requirement already satisfied: opencv-python in c:\\users\\wou\\appdata\\roaming\\python\\python312\\site-packages (4.10.0.84)\n",
      "Requirement already satisfied: numpy>=1.21.2 in c:\\programdata\\anaconda3\\lib\\site-packages (from opencv-python) (1.26.4)\n",
      "Note: you may need to restart the kernel to use updated packages.\n"
     ]
    }
   ],
   "source": [
    "pip install opencv-python"
   ]
  },
  {
   "cell_type": "code",
   "execution_count": 15,
   "id": "e701998b",
   "metadata": {
    "executionInfo": {
     "elapsed": 408,
     "status": "ok",
     "timestamp": 1726980245630,
     "user": {
      "displayName": "Dr Chaitanya",
      "userId": "10883291963338122460"
     },
     "user_tz": -330
    },
    "id": "e701998b",
    "scrolled": true
   },
   "outputs": [],
   "source": [
    "import cv2"
   ]
  },
  {
   "cell_type": "code",
   "execution_count": 32,
   "id": "d36c30fe",
   "metadata": {
    "colab": {
     "base_uri": "https://localhost:8080/",
     "height": 384
    },
    "executionInfo": {
     "elapsed": 406,
     "status": "error",
     "timestamp": 1726980232687,
     "user": {
      "displayName": "Dr Chaitanya",
      "userId": "10883291963338122460"
     },
     "user_tz": -330
    },
    "id": "d36c30fe",
    "outputId": "3ac97b84-ab11-45ac-dc88-b8bd0e6af9ef"
   },
   "outputs": [
    {
     "data": {
      "text/plain": [
       "-1"
      ]
     },
     "execution_count": 32,
     "metadata": {},
     "output_type": "execute_result"
    }
   ],
   "source": [
    "image = cv2.imread(\"Woxsen.png\")\n",
    "cv2.imshow(\"Woxsen\", image)\n",
    "cv2.waitKey(0)"
   ]
  },
  {
   "cell_type": "code",
   "execution_count": 62,
   "id": "d12609cf-371b-4bbf-9ca9-65abb5d9b770",
   "metadata": {},
   "outputs": [],
   "source": [
    "import cv2\n",
    "\n",
    "# Read the image\n",
    "image = cv2.imread(\"Woxsen.png\")\n",
    "\n",
    "# Get the dimensions of the image\n",
    "height, width = image.shape[:2]\n",
    "\n",
    "# Set a max width and height for the window\n",
    "max_width = 800\n",
    "max_height = 600\n",
    "\n",
    "# Calculate the ratio of the original dimensions\n",
    "if width > max_width or height > max_height:\n",
    "    scaling_factor = min(max_width / width, max_height / height)\n",
    "    new_width = int(width * scaling_factor)\n",
    "    new_height = int(height * scaling_factor)\n",
    "    resized_image = cv2.resize(image, (new_width, new_height))\n",
    "else:\n",
    "    resized_image = image\n",
    "\n",
    "# Display the resized image\n",
    "cv2.imshow(\"Woxsen\", resized_image)\n",
    "cv2.waitKey(0)\n",
    "cv2.destroyAllWindows()\n"
   ]
  },
  {
   "cell_type": "code",
   "execution_count": 64,
   "id": "e45bb7aa",
   "metadata": {
    "colab": {
     "base_uri": "https://localhost:8080/",
     "height": 193
    },
    "executionInfo": {
     "elapsed": 465,
     "status": "error",
     "timestamp": 1726980215845,
     "user": {
      "displayName": "Dr Chaitanya",
      "userId": "10883291963338122460"
     },
     "user_tz": -330
    },
    "id": "e45bb7aa",
    "outputId": "23717d81-0a81-40bb-ff7e-c275f169f66e"
   },
   "outputs": [
    {
     "data": {
      "text/plain": [
       "-1"
      ]
     },
     "execution_count": 64,
     "metadata": {},
     "output_type": "execute_result"
    }
   ],
   "source": [
    "gray_image = cv2.cvtColor(resized_image, cv2.COLOR_BGR2GRAY)\n",
    "cv2.imshow(\"New Woxsen\", gray_image)\n",
    "cv2.waitKey(0)"
   ]
  },
  {
   "cell_type": "code",
   "execution_count": 66,
   "id": "0a73f3d0",
   "metadata": {
    "id": "0a73f3d0",
    "outputId": "2ced98ad-c3f5-43e7-d42b-fa4c97ea6532"
   },
   "outputs": [
    {
     "data": {
      "text/plain": [
       "-1"
      ]
     },
     "execution_count": 66,
     "metadata": {},
     "output_type": "execute_result"
    }
   ],
   "source": [
    "inverted_image = 255 - gray_image\n",
    "cv2.imshow(\"Inverted\", inverted_image)\n",
    "cv2.waitKey()"
   ]
  },
  {
   "cell_type": "code",
   "execution_count": 68,
   "id": "718a5806",
   "metadata": {
    "id": "718a5806"
   },
   "outputs": [
    {
     "data": {
      "text/plain": [
       "-1"
      ]
     },
     "execution_count": 68,
     "metadata": {},
     "output_type": "execute_result"
    }
   ],
   "source": [
    "blurred = cv2.GaussianBlur(inverted_image, (21, 21), 0)\n",
    "cv2.imshow(\"Blur\", blurred)\n",
    "cv2.waitKey()"
   ]
  },
  {
   "cell_type": "code",
   "execution_count": 70,
   "id": "b6a7b4b3",
   "metadata": {
    "id": "b6a7b4b3",
    "outputId": "11e178ef-063f-402f-b3c7-bff8d0386675"
   },
   "outputs": [
    {
     "data": {
      "text/plain": [
       "-1"
      ]
     },
     "execution_count": 70,
     "metadata": {},
     "output_type": "execute_result"
    }
   ],
   "source": [
    "inverted_blurred = 255 - blurred\n",
    "pencil_sketch = cv2.divide(gray_image, inverted_blurred, scale=256.0)\n",
    "cv2.imshow(\"Sketch\", pencil_sketch)\n",
    "cv2.waitKey(0)"
   ]
  },
  {
   "cell_type": "code",
   "execution_count": 26,
   "id": "86e27af6",
   "metadata": {
    "id": "86e27af6",
    "outputId": "ca62990a-855d-42dd-9704-75d6e4f4ec4f"
   },
   "outputs": [
    {
     "data": {
      "text/plain": [
       "-1"
      ]
     },
     "execution_count": 26,
     "metadata": {},
     "output_type": "execute_result"
    }
   ],
   "source": [
    "cv2.imshow(\"original image\", image)\n",
    "cv2.imshow(\"pencil sketch\", pencil_sketch)\n",
    "cv2.waitKey(0)"
   ]
  },
  {
   "cell_type": "code",
   "execution_count": null,
   "id": "732eba08",
   "metadata": {
    "id": "732eba08"
   },
   "outputs": [],
   "source": []
  },
  {
   "cell_type": "code",
   "execution_count": null,
   "id": "10853aa4-53d9-4113-9f49-4209aaab6ff2",
   "metadata": {},
   "outputs": [],
   "source": []
  }
 ],
 "metadata": {
  "colab": {
   "provenance": []
  },
  "kernelspec": {
   "display_name": "Python 3 (ipykernel)",
   "language": "python",
   "name": "python3"
  },
  "language_info": {
   "codemirror_mode": {
    "name": "ipython",
    "version": 3
   },
   "file_extension": ".py",
   "mimetype": "text/x-python",
   "name": "python",
   "nbconvert_exporter": "python",
   "pygments_lexer": "ipython3",
   "version": "3.12.4"
  }
 },
 "nbformat": 4,
 "nbformat_minor": 5
}
